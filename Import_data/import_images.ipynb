{
 "cells": [
  {
   "cell_type": "code",
   "execution_count": 2,
   "id": "f05ca20c-c70c-4de7-b312-cec860f2a06b",
   "metadata": {},
   "outputs": [
    {
     "name": "stderr",
     "output_type": "stream",
     "text": [
      "2023-08-10 14:47:18.888004: I tensorflow/core/platform/cpu_feature_guard.cc:182] This TensorFlow binary is optimized to use available CPU instructions in performance-critical operations.\n",
      "To enable the following instructions: SSE4.1 SSE4.2 AVX AVX2 AVX512F AVX512_VNNI FMA, in other operations, rebuild TensorFlow with the appropriate compiler flags.\n"
     ]
    }
   ],
   "source": [
    "from PIL import Image\n",
    "from sklearn.model_selection import StratifiedShuffleSplit\n",
    "from sklearn import preprocessing\n",
    "from sklearn.model_selection import train_test_split\n",
    "\n",
    "import keras\n",
    "from keras.models import Sequential, load_model\n",
    "from keras.layers import Dense, Dropout, Activation, Flatten\n",
    "from keras.layers import Conv2D, MaxPooling2D"
   ]
  },
  {
   "cell_type": "code",
   "execution_count": null,
   "id": "4f482432-b4d5-4523-bd88-8d0bcb961b73",
   "metadata": {},
   "outputs": [],
   "source": [
    "\n",
    "\n"
   ]
  },
  {
   "cell_type": "code",
   "execution_count": 3,
   "id": "a397e90c-225a-40fd-a9c9-ca866dd45ae6",
   "metadata": {},
   "outputs": [],
   "source": [
    "import os \n",
    "from PIL import Image\n",
    "import numpy as np\n",
    "\n",
    "dirname_CLL, dirname_FL, dirname_MCL = 'lymphoma/CLL' ,'lymphoma/FL' ,'lymphoma/MCL'\n",
    "\n",
    "final_CLL, final_FL , final_MCL  = [] , [] , []\n",
    "\n",
    "for fname in os.listdir(dirname_CLL):\n",
    "    im = Image.open(os.path.join(dirname_CLL, fname))\n",
    "    imarray = np.array(im)\n",
    "    final_CLL.append(imarray)\n",
    "\n",
    "final_CLL = np.asarray(final_CLL) \n",
    "\n",
    "for fname in os.listdir(dirname_FL):\n",
    "    im = Image.open(os.path.join(dirname_FL, fname))\n",
    "    imarray = np.array(im)\n",
    "    final_FL.append(imarray)\n",
    "\n",
    "final_FL = np.asarray(final_FL) \n",
    "\n",
    "\n",
    "for fname in os.listdir(dirname_MCL):\n",
    "    im = Image.open(os.path.join(dirname_MCL, fname))\n",
    "    imarray = np.array(im)\n",
    "    final_MCL.append(imarray)\n",
    "\n",
    "final_MCL = np.asarray(final_MCL) \n"
   ]
  },
  {
   "cell_type": "code",
   "execution_count": 4,
   "id": "128e5cdd-d3c8-4023-9184-96d37ce46b0a",
   "metadata": {},
   "outputs": [
    {
     "name": "stdout",
     "output_type": "stream",
     "text": [
      "(113, 1040, 1388, 3)\n",
      "(139, 1040, 1388, 3)\n",
      "(122, 1040, 1388, 3)\n"
     ]
    }
   ],
   "source": [
    "print(final_CLL.shape)\n",
    "print(final_FL.shape)\n",
    "print(final_MCL.shape)"
   ]
  },
  {
   "cell_type": "code",
   "execution_count": 5,
   "id": "f8e0d23c-3ccb-47f8-a719-7a1ca4f7307f",
   "metadata": {},
   "outputs": [
    {
     "name": "stdout",
     "output_type": "stream",
     "text": [
      "(374, 1040, 1388, 3)\n"
     ]
    }
   ],
   "source": [
    "final = np.concatenate((final_CLL, final_FL, final_MCL) , axis=0)\n",
    "print(final.shape)"
   ]
  },
  {
   "cell_type": "code",
   "execution_count": 6,
   "id": "9cf7fae5-54c0-45a4-8b62-2a433e72c6e5",
   "metadata": {},
   "outputs": [
    {
     "name": "stdout",
     "output_type": "stream",
     "text": [
      "(374, 3)\n"
     ]
    }
   ],
   "source": [
    "label_CLL = np.zeros(final_CLL.shape[0])\n",
    "label_FL = np.ones(final_FL.shape[0])\n",
    "label_MCL = 2*np.ones(final_MCL.shape[0])\n",
    "\n",
    "label = np.concatenate((label_CLL, label_FL, label_MCL) , axis=0)\n",
    "\n",
    "# transform training label to one-hot encoding\n",
    "lb = preprocessing.LabelBinarizer()\n",
    "lb.fit(label)\n",
    "label = lb.transform(label)\n",
    "\n",
    "print(label.shape)\n"
   ]
  },
  {
   "cell_type": "code",
   "execution_count": 7,
   "id": "e5f04d2e-fbec-4984-b2d7-336486cd1ed0",
   "metadata": {},
   "outputs": [],
   "source": [
    "X_train, X_test, y_train, y_test = train_test_split(final, label, test_size=0.1, random_state=42)"
   ]
  },
  {
   "cell_type": "code",
   "execution_count": 8,
   "id": "f90c47dd-5158-4dc7-bbbd-90be327472e6",
   "metadata": {},
   "outputs": [],
   "source": [
    "img_size= (1040, 1388, 3)\n",
    "n_classes = 3\n"
   ]
  },
  {
   "cell_type": "code",
   "execution_count": 9,
   "id": "7d6e6088-6349-4955-8c13-a88bb39f04fa",
   "metadata": {},
   "outputs": [
    {
     "name": "stderr",
     "output_type": "stream",
     "text": [
      "2023-08-10 14:47:26.921015: I tensorflow/core/common_runtime/process_util.cc:146] Creating new thread pool with default inter op setting: 2. Tune using inter_op_parallelism_threads for best performance.\n"
     ]
    },
    {
     "data": {
      "text/plain": [
       "<bound method Model.summary of <keras.engine.sequential.Sequential object at 0x7f265a068ee0>>"
      ]
     },
     "execution_count": 9,
     "metadata": {},
     "output_type": "execute_result"
    }
   ],
   "source": [
    "\n",
    "model = Sequential()\n",
    "model.add(Conv2D(32, (5, 5), input_shape = img_size, kernel_initializer = 'normal'))\n",
    "model.add(Activation('relu'))\n",
    "model.add(MaxPooling2D(pool_size = (2, 2)))\n",
    "model.add(Conv2D(64, (5, 5), kernel_initializer = 'normal'))\n",
    "model.add(Activation('relu'))\n",
    "model.add(MaxPooling2D(pool_size = (2, 2)))\n",
    "model.add(Dropout(0.25))\n",
    "\n",
    "model.add(Flatten())\n",
    "model.add(Dense(128))\n",
    "model.add(Activation('relu'))\n",
    "model.add(Dropout(0.5))\n",
    "model.add(Dense(n_classes))\n",
    "model.add(Activation('softmax'))\n",
    "\n",
    "model.compile(loss = 'categorical_crossentropy', optimizer = 'rmsprop', metrics = ['accuracy'])\n",
    "\n",
    "model.summary"
   ]
  },
  {
   "cell_type": "code",
   "execution_count": null,
   "id": "0d1f2b93-4171-4bd1-bcee-297fb4c818b5",
   "metadata": {},
   "outputs": [
    {
     "name": "stdout",
     "output_type": "stream",
     "text": [
      "Epoch 1/10\n"
     ]
    }
   ],
   "source": [
    "model.fit(\n",
    "    X_train,\n",
    "    y_train,\n",
    "    validation_split=0.2,\n",
    "    epochs=10,\n",
    "    batch_size=128,\n",
    "    verbose=1\n",
    ")"
   ]
  },
  {
   "cell_type": "code",
   "execution_count": null,
   "id": "3ea43b96-311f-4dff-88e0-9255ce06816b",
   "metadata": {},
   "outputs": [],
   "source": []
  }
 ],
 "metadata": {
  "kernelspec": {
   "display_name": "Python 3 (ipykernel)",
   "language": "python",
   "name": "python3"
  },
  "language_info": {
   "codemirror_mode": {
    "name": "ipython",
    "version": 3
   },
   "file_extension": ".py",
   "mimetype": "text/x-python",
   "name": "python",
   "nbconvert_exporter": "python",
   "pygments_lexer": "ipython3",
   "version": "3.10.9"
  }
 },
 "nbformat": 4,
 "nbformat_minor": 5
}
